{
 "cells": [
  {
   "cell_type": "code",
   "execution_count": 40,
   "id": "d2123735",
   "metadata": {},
   "outputs": [
    {
     "name": "stdout",
     "output_type": "stream",
     "text": [
      "Collecting pydicom\n",
      "  Downloading pydicom-2.2.2-py3-none-any.whl (2.0 MB)\n",
      "\u001b[K     |████████████████████████████████| 2.0 MB 4.5 MB/s eta 0:00:01\n",
      "\u001b[?25hInstalling collected packages: pydicom\n",
      "Successfully installed pydicom-2.2.2\n",
      "Note: you may need to restart the kernel to use updated packages.\n"
     ]
    }
   ],
   "source": [
    "pip install pydicom"
   ]
  },
  {
   "cell_type": "code",
   "execution_count": 41,
   "id": "dbd362ea",
   "metadata": {},
   "outputs": [],
   "source": [
    "import pandas as pd\n",
    "\n",
    "import glob\n",
    "import pydicom"
   ]
  },
  {
   "cell_type": "code",
   "execution_count": 86,
   "id": "21d84c60",
   "metadata": {},
   "outputs": [],
   "source": [
    "exp1 = pd.read_csv('labels_exp1.csv')\n",
    "exp2 = pd.read_csv('labels_exp2.csv')"
   ]
  },
  {
   "cell_type": "code",
   "execution_count": 87,
   "id": "7db4e72d",
   "metadata": {},
   "outputs": [
    {
     "data": {
      "text/html": [
       "<div>\n",
       "<style scoped>\n",
       "    .dataframe tbody tr th:only-of-type {\n",
       "        vertical-align: middle;\n",
       "    }\n",
       "\n",
       "    .dataframe tbody tr th {\n",
       "        vertical-align: top;\n",
       "    }\n",
       "\n",
       "    .dataframe thead th {\n",
       "        text-align: right;\n",
       "    }\n",
       "</style>\n",
       "<table border=\"1\" class=\"dataframe\">\n",
       "  <thead>\n",
       "    <tr style=\"text-align: right;\">\n",
       "      <th></th>\n",
       "      <th>type</th>\n",
       "      <th>uuid</th>\n",
       "      <th>slice</th>\n",
       "      <th>x</th>\n",
       "      <th>y</th>\n",
       "    </tr>\n",
       "  </thead>\n",
       "  <tbody>\n",
       "    <tr>\n",
       "      <th>0</th>\n",
       "      <td>FB</td>\n",
       "      <td>1280</td>\n",
       "      <td>100</td>\n",
       "      <td>323</td>\n",
       "      <td>381</td>\n",
       "    </tr>\n",
       "    <tr>\n",
       "      <th>1</th>\n",
       "      <td>FB</td>\n",
       "      <td>1009</td>\n",
       "      <td>76</td>\n",
       "      <td>354</td>\n",
       "      <td>288</td>\n",
       "    </tr>\n",
       "    <tr>\n",
       "      <th>2</th>\n",
       "      <td>FB</td>\n",
       "      <td>7794</td>\n",
       "      <td>79</td>\n",
       "      <td>163</td>\n",
       "      <td>191</td>\n",
       "    </tr>\n",
       "    <tr>\n",
       "      <th>3</th>\n",
       "      <td>FB</td>\n",
       "      <td>7794</td>\n",
       "      <td>94</td>\n",
       "      <td>338</td>\n",
       "      <td>243</td>\n",
       "    </tr>\n",
       "    <tr>\n",
       "      <th>4</th>\n",
       "      <td>FB</td>\n",
       "      <td>2997</td>\n",
       "      <td>45</td>\n",
       "      <td>156</td>\n",
       "      <td>135</td>\n",
       "    </tr>\n",
       "    <tr>\n",
       "      <th>...</th>\n",
       "      <td>...</td>\n",
       "      <td>...</td>\n",
       "      <td>...</td>\n",
       "      <td>...</td>\n",
       "      <td>...</td>\n",
       "    </tr>\n",
       "    <tr>\n",
       "      <th>128</th>\n",
       "      <td>TM</td>\n",
       "      <td>7507</td>\n",
       "      <td>201</td>\n",
       "      <td>316</td>\n",
       "      <td>362</td>\n",
       "    </tr>\n",
       "    <tr>\n",
       "      <th>129</th>\n",
       "      <td>TM</td>\n",
       "      <td>7507</td>\n",
       "      <td>319</td>\n",
       "      <td>125</td>\n",
       "      <td>323</td>\n",
       "    </tr>\n",
       "    <tr>\n",
       "      <th>130</th>\n",
       "      <td>TM</td>\n",
       "      <td>2190</td>\n",
       "      <td>48</td>\n",
       "      <td>147</td>\n",
       "      <td>379</td>\n",
       "    </tr>\n",
       "    <tr>\n",
       "      <th>131</th>\n",
       "      <td>TM</td>\n",
       "      <td>2190</td>\n",
       "      <td>213</td>\n",
       "      <td>141</td>\n",
       "      <td>336</td>\n",
       "    </tr>\n",
       "    <tr>\n",
       "      <th>132</th>\n",
       "      <td>TM</td>\n",
       "      <td>3025</td>\n",
       "      <td>165</td>\n",
       "      <td>198</td>\n",
       "      <td>331</td>\n",
       "    </tr>\n",
       "  </tbody>\n",
       "</table>\n",
       "<p>133 rows × 5 columns</p>\n",
       "</div>"
      ],
      "text/plain": [
       "    type  uuid  slice    x    y\n",
       "0     FB  1280    100  323  381\n",
       "1     FB  1009     76  354  288\n",
       "2     FB  7794     79  163  191\n",
       "3     FB  7794     94  338  243\n",
       "4     FB  2997     45  156  135\n",
       "..   ...   ...    ...  ...  ...\n",
       "128   TM  7507    201  316  362\n",
       "129   TM  7507    319  125  323\n",
       "130   TM  2190     48  147  379\n",
       "131   TM  2190    213  141  336\n",
       "132   TM  3025    165  198  331\n",
       "\n",
       "[133 rows x 5 columns]"
      ]
     },
     "execution_count": 87,
     "metadata": {},
     "output_type": "execute_result"
    }
   ],
   "source": [
    "exp1"
   ]
  },
  {
   "cell_type": "code",
   "execution_count": 174,
   "id": "fc39fa91",
   "metadata": {},
   "outputs": [],
   "source": [
    "df = exp1.append(exp2)"
   ]
  },
  {
   "cell_type": "code",
   "execution_count": 175,
   "id": "ddc9192a",
   "metadata": {
    "scrolled": true
   },
   "outputs": [
    {
     "data": {
      "text/plain": [
       "98"
      ]
     },
     "execution_count": 175,
     "metadata": {},
     "output_type": "execute_result"
    }
   ],
   "source": [
    "len(df.uuid.unique())"
   ]
  },
  {
   "cell_type": "code",
   "execution_count": 176,
   "id": "218ae743",
   "metadata": {
    "scrolled": true
   },
   "outputs": [
    {
     "data": {
      "text/html": [
       "<div>\n",
       "<style scoped>\n",
       "    .dataframe tbody tr th:only-of-type {\n",
       "        vertical-align: middle;\n",
       "    }\n",
       "\n",
       "    .dataframe tbody tr th {\n",
       "        vertical-align: top;\n",
       "    }\n",
       "\n",
       "    .dataframe thead th {\n",
       "        text-align: right;\n",
       "    }\n",
       "</style>\n",
       "<table border=\"1\" class=\"dataframe\">\n",
       "  <thead>\n",
       "    <tr style=\"text-align: right;\">\n",
       "      <th></th>\n",
       "      <th>type</th>\n",
       "    </tr>\n",
       "    <tr>\n",
       "      <th>uuid</th>\n",
       "      <th></th>\n",
       "    </tr>\n",
       "  </thead>\n",
       "  <tbody>\n",
       "    <tr>\n",
       "      <th>1280</th>\n",
       "      <td>FB</td>\n",
       "    </tr>\n",
       "    <tr>\n",
       "      <th>1009</th>\n",
       "      <td>FB</td>\n",
       "    </tr>\n",
       "    <tr>\n",
       "      <th>7794</th>\n",
       "      <td>FB</td>\n",
       "    </tr>\n",
       "    <tr>\n",
       "      <th>2997</th>\n",
       "      <td>FB</td>\n",
       "    </tr>\n",
       "    <tr>\n",
       "      <th>2043</th>\n",
       "      <td>FB</td>\n",
       "    </tr>\n",
       "  </tbody>\n",
       "</table>\n",
       "</div>"
      ],
      "text/plain": [
       "     type\n",
       "uuid     \n",
       "1280   FB\n",
       "1009   FB\n",
       "7794   FB\n",
       "2997   FB\n",
       "2043   FB"
      ]
     },
     "execution_count": 176,
     "metadata": {},
     "output_type": "execute_result"
    }
   ],
   "source": [
    "df = df.drop_duplicates(subset = 'uuid')\n",
    "df = df[['uuid','type']]\n",
    "df.set_index('uuid', inplace = True)\n",
    "df.head(5)"
   ]
  },
  {
   "cell_type": "code",
   "execution_count": 177,
   "id": "b875b84d",
   "metadata": {},
   "outputs": [
    {
     "data": {
      "text/plain": [
       "98"
      ]
     },
     "execution_count": 177,
     "metadata": {},
     "output_type": "execute_result"
    }
   ],
   "source": [
    "len(df)"
   ]
  },
  {
   "cell_type": "markdown",
   "id": "39fede81",
   "metadata": {},
   "source": [
    "## Import dcm data"
   ]
  },
  {
   "cell_type": "code",
   "execution_count": 122,
   "id": "d74192e7",
   "metadata": {},
   "outputs": [],
   "source": [
    "pixel_data = []"
   ]
  },
  {
   "cell_type": "code",
   "execution_count": 123,
   "id": "31f46e05",
   "metadata": {},
   "outputs": [],
   "source": [
    "paths = glob.glob(\"/Users/yuxuanmei/Downloads/data/Tampered Scans/colletion/*/*.dcm\")\n",
    "for path in paths:\n",
    "    dataset = pydicom.dcmread(path)\n",
    "    pixel_data.append(dataset.pixel_array)"
   ]
  },
  {
   "cell_type": "code",
   "execution_count": 124,
   "id": "8633f9ab",
   "metadata": {},
   "outputs": [
    {
     "data": {
      "text/plain": [
       "22213"
      ]
     },
     "execution_count": 124,
     "metadata": {},
     "output_type": "execute_result"
    }
   ],
   "source": [
    "len(pixel_data)"
   ]
  },
  {
   "cell_type": "code",
   "execution_count": 125,
   "id": "aaaa8c34",
   "metadata": {},
   "outputs": [
    {
     "data": {
      "text/plain": [
       "22213"
      ]
     },
     "execution_count": 125,
     "metadata": {},
     "output_type": "execute_result"
    }
   ],
   "source": [
    "uuid = []\n",
    "for path in paths:\n",
    "    uuid.append(path[57:61])\n",
    "len(uuid)"
   ]
  },
  {
   "cell_type": "code",
   "execution_count": 126,
   "id": "d1852e3c",
   "metadata": {},
   "outputs": [],
   "source": [
    "dict = {'uuid':uuid, 'pixel':pixel_data}"
   ]
  },
  {
   "cell_type": "code",
   "execution_count": 131,
   "id": "83bb7750",
   "metadata": {},
   "outputs": [
    {
     "data": {
      "text/html": [
       "<div>\n",
       "<style scoped>\n",
       "    .dataframe tbody tr th:only-of-type {\n",
       "        vertical-align: middle;\n",
       "    }\n",
       "\n",
       "    .dataframe tbody tr th {\n",
       "        vertical-align: top;\n",
       "    }\n",
       "\n",
       "    .dataframe thead th {\n",
       "        text-align: right;\n",
       "    }\n",
       "</style>\n",
       "<table border=\"1\" class=\"dataframe\">\n",
       "  <thead>\n",
       "    <tr style=\"text-align: right;\">\n",
       "      <th></th>\n",
       "      <th>pixel</th>\n",
       "    </tr>\n",
       "    <tr>\n",
       "      <th>uuid</th>\n",
       "      <th></th>\n",
       "    </tr>\n",
       "  </thead>\n",
       "  <tbody>\n",
       "    <tr>\n",
       "      <th>2244</th>\n",
       "      <td>[[-1000, -1000, -1000, -944, -973, -1000, -975...</td>\n",
       "    </tr>\n",
       "    <tr>\n",
       "      <th>2244</th>\n",
       "      <td>[[-1000, -1000, -1000, -993, -977, -964, -992,...</td>\n",
       "    </tr>\n",
       "    <tr>\n",
       "      <th>2244</th>\n",
       "      <td>[[-1000, -1000, -1000, -1000, -1000, -985, -97...</td>\n",
       "    </tr>\n",
       "    <tr>\n",
       "      <th>2244</th>\n",
       "      <td>[[-1000, -1000, -940, -984, -999, -981, -1000,...</td>\n",
       "    </tr>\n",
       "    <tr>\n",
       "      <th>2244</th>\n",
       "      <td>[[-1000, -1000, -979, -964, -997, -990, -990, ...</td>\n",
       "    </tr>\n",
       "  </tbody>\n",
       "</table>\n",
       "</div>"
      ],
      "text/plain": [
       "                                                  pixel\n",
       "uuid                                                   \n",
       "2244  [[-1000, -1000, -1000, -944, -973, -1000, -975...\n",
       "2244  [[-1000, -1000, -1000, -993, -977, -964, -992,...\n",
       "2244  [[-1000, -1000, -1000, -1000, -1000, -985, -97...\n",
       "2244  [[-1000, -1000, -940, -984, -999, -981, -1000,...\n",
       "2244  [[-1000, -1000, -979, -964, -997, -990, -990, ..."
      ]
     },
     "execution_count": 131,
     "metadata": {},
     "output_type": "execute_result"
    }
   ],
   "source": [
    "total_df = pd.DataFrame(dict)\n",
    "total_df.set_index('uuid', inplace=True)\n",
    "total_df.head(5)"
   ]
  },
  {
   "cell_type": "code",
   "execution_count": 181,
   "id": "ae09f1b4",
   "metadata": {
    "scrolled": true
   },
   "outputs": [
    {
     "data": {
      "text/plain": [
       "98"
      ]
     },
     "execution_count": 181,
     "metadata": {},
     "output_type": "execute_result"
    }
   ],
   "source": [
    "label_dict = df['type'].to_dict()\n",
    "len(label_dict)"
   ]
  },
  {
   "cell_type": "code",
   "execution_count": 148,
   "id": "9dcbd8c0",
   "metadata": {},
   "outputs": [],
   "source": [
    "total_df.reset_index(inplace=True)"
   ]
  },
  {
   "cell_type": "code",
   "execution_count": 190,
   "id": "2884c431",
   "metadata": {},
   "outputs": [],
   "source": [
    "total_df['label'] = ''"
   ]
  },
  {
   "cell_type": "code",
   "execution_count": 201,
   "id": "fa7604ba",
   "metadata": {},
   "outputs": [],
   "source": [
    "for i in range(len(total_df)):\n",
    "    total_df.iloc[i,2] = label_dict[int(total_df.iloc[i,0])]"
   ]
  },
  {
   "cell_type": "code",
   "execution_count": 206,
   "id": "f1289b07",
   "metadata": {},
   "outputs": [
    {
     "data": {
      "text/html": [
       "<div>\n",
       "<style scoped>\n",
       "    .dataframe tbody tr th:only-of-type {\n",
       "        vertical-align: middle;\n",
       "    }\n",
       "\n",
       "    .dataframe tbody tr th {\n",
       "        vertical-align: top;\n",
       "    }\n",
       "\n",
       "    .dataframe thead th {\n",
       "        text-align: right;\n",
       "    }\n",
       "</style>\n",
       "<table border=\"1\" class=\"dataframe\">\n",
       "  <thead>\n",
       "    <tr style=\"text-align: right;\">\n",
       "      <th></th>\n",
       "      <th>uuid</th>\n",
       "      <th>pixel</th>\n",
       "      <th>label</th>\n",
       "    </tr>\n",
       "  </thead>\n",
       "  <tbody>\n",
       "    <tr>\n",
       "      <th>0</th>\n",
       "      <td>2244</td>\n",
       "      <td>[[-1000, -1000, -1000, -944, -973, -1000, -975...</td>\n",
       "      <td>TM</td>\n",
       "    </tr>\n",
       "    <tr>\n",
       "      <th>1</th>\n",
       "      <td>2244</td>\n",
       "      <td>[[-1000, -1000, -1000, -993, -977, -964, -992,...</td>\n",
       "      <td>TM</td>\n",
       "    </tr>\n",
       "    <tr>\n",
       "      <th>2</th>\n",
       "      <td>2244</td>\n",
       "      <td>[[-1000, -1000, -1000, -1000, -1000, -985, -97...</td>\n",
       "      <td>TM</td>\n",
       "    </tr>\n",
       "    <tr>\n",
       "      <th>3</th>\n",
       "      <td>2244</td>\n",
       "      <td>[[-1000, -1000, -940, -984, -999, -981, -1000,...</td>\n",
       "      <td>TM</td>\n",
       "    </tr>\n",
       "    <tr>\n",
       "      <th>4</th>\n",
       "      <td>2244</td>\n",
       "      <td>[[-1000, -1000, -979, -964, -997, -990, -990, ...</td>\n",
       "      <td>TM</td>\n",
       "    </tr>\n",
       "    <tr>\n",
       "      <th>...</th>\n",
       "      <td>...</td>\n",
       "      <td>...</td>\n",
       "      <td>...</td>\n",
       "    </tr>\n",
       "    <tr>\n",
       "      <th>22208</th>\n",
       "      <td>2838</td>\n",
       "      <td>[[-3024, -3024, -3024, -3024, -3024, -3024, -3...</td>\n",
       "      <td>FM</td>\n",
       "    </tr>\n",
       "    <tr>\n",
       "      <th>22209</th>\n",
       "      <td>2838</td>\n",
       "      <td>[[-3024, -3024, -3024, -3024, -3024, -3024, -3...</td>\n",
       "      <td>FM</td>\n",
       "    </tr>\n",
       "    <tr>\n",
       "      <th>22210</th>\n",
       "      <td>2838</td>\n",
       "      <td>[[-3024, -3024, -3024, -3024, -3024, -3024, -3...</td>\n",
       "      <td>FM</td>\n",
       "    </tr>\n",
       "    <tr>\n",
       "      <th>22211</th>\n",
       "      <td>2838</td>\n",
       "      <td>[[-3024, -3024, -3024, -3024, -3024, -3024, -3...</td>\n",
       "      <td>FM</td>\n",
       "    </tr>\n",
       "    <tr>\n",
       "      <th>22212</th>\n",
       "      <td>2838</td>\n",
       "      <td>[[-3024, -3024, -3024, -3024, -3024, -3024, -3...</td>\n",
       "      <td>FM</td>\n",
       "    </tr>\n",
       "  </tbody>\n",
       "</table>\n",
       "<p>22213 rows × 3 columns</p>\n",
       "</div>"
      ],
      "text/plain": [
       "       uuid                                              pixel label\n",
       "0      2244  [[-1000, -1000, -1000, -944, -973, -1000, -975...    TM\n",
       "1      2244  [[-1000, -1000, -1000, -993, -977, -964, -992,...    TM\n",
       "2      2244  [[-1000, -1000, -1000, -1000, -1000, -985, -97...    TM\n",
       "3      2244  [[-1000, -1000, -940, -984, -999, -981, -1000,...    TM\n",
       "4      2244  [[-1000, -1000, -979, -964, -997, -990, -990, ...    TM\n",
       "...     ...                                                ...   ...\n",
       "22208  2838  [[-3024, -3024, -3024, -3024, -3024, -3024, -3...    FM\n",
       "22209  2838  [[-3024, -3024, -3024, -3024, -3024, -3024, -3...    FM\n",
       "22210  2838  [[-3024, -3024, -3024, -3024, -3024, -3024, -3...    FM\n",
       "22211  2838  [[-3024, -3024, -3024, -3024, -3024, -3024, -3...    FM\n",
       "22212  2838  [[-3024, -3024, -3024, -3024, -3024, -3024, -3...    FM\n",
       "\n",
       "[22213 rows x 3 columns]"
      ]
     },
     "execution_count": 206,
     "metadata": {},
     "output_type": "execute_result"
    }
   ],
   "source": [
    "total_df"
   ]
  },
  {
   "cell_type": "code",
   "execution_count": 215,
   "id": "1647d7ac",
   "metadata": {},
   "outputs": [
    {
     "data": {
      "text/plain": [
       "(512, 512)"
      ]
     },
     "execution_count": 215,
     "metadata": {},
     "output_type": "execute_result"
    }
   ],
   "source": [
    "total_df.pixel[0].shape"
   ]
  },
  {
   "cell_type": "code",
   "execution_count": 216,
   "id": "034c0b2b",
   "metadata": {},
   "outputs": [],
   "source": [
    "total_df.to_pickle('cleaned_data.pkl')"
   ]
  },
  {
   "cell_type": "code",
   "execution_count": 218,
   "id": "8f2595a1",
   "metadata": {},
   "outputs": [],
   "source": [
    "test = pd.read_pickle('cleaned_data.pkl')"
   ]
  },
  {
   "cell_type": "code",
   "execution_count": 220,
   "id": "9de608c8",
   "metadata": {},
   "outputs": [
    {
     "data": {
      "text/plain": [
       "(512, 512)"
      ]
     },
     "execution_count": 220,
     "metadata": {},
     "output_type": "execute_result"
    }
   ],
   "source": [
    "test.pixel[0].shape"
   ]
  }
 ],
 "metadata": {
  "kernelspec": {
   "display_name": "Python 3",
   "language": "python",
   "name": "python3"
  },
  "language_info": {
   "codemirror_mode": {
    "name": "ipython",
    "version": 3
   },
   "file_extension": ".py",
   "mimetype": "text/x-python",
   "name": "python",
   "nbconvert_exporter": "python",
   "pygments_lexer": "ipython3",
   "version": "3.8.8"
  }
 },
 "nbformat": 4,
 "nbformat_minor": 5
}
